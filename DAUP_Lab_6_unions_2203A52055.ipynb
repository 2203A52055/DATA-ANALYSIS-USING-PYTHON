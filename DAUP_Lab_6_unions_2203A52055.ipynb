{
  "nbformat": 4,
  "nbformat_minor": 0,
  "metadata": {
    "colab": {
      "provenance": []
    },
    "kernelspec": {
      "name": "python3",
      "display_name": "Python 3"
    },
    "language_info": {
      "name": "python"
    }
  },
  "cells": [
    {
      "cell_type": "code",
      "execution_count": null,
      "metadata": {
        "colab": {
          "base_uri": "https://localhost:8080/"
        },
        "id": "_TS48nMR5sXL",
        "outputId": "9fcab389-e014-4941-bc6d-7ee6a380e93c"
      },
      "outputs": [
        {
          "output_type": "stream",
          "name": "stdout",
          "text": [
            "Warning: Looks like you're using an outdated `kagglehub` version (installed: 0.3.7), please consider upgrading to the latest version (0.3.8).\n",
            "Downloading from https://www.kaggle.com/api/v1/datasets/download/hosammhmdali/supermarket-sales?dataset_version_number=1...\n"
          ]
        },
        {
          "output_type": "stream",
          "name": "stderr",
          "text": [
            "100%|██████████| 35.9k/35.9k [00:00<00:00, 4.72MB/s]"
          ]
        },
        {
          "output_type": "stream",
          "name": "stdout",
          "text": [
            "Extracting files...\n",
            "Path to dataset files: /root/.cache/kagglehub/datasets/hosammhmdali/supermarket-sales/versions/1\n"
          ]
        },
        {
          "output_type": "stream",
          "name": "stderr",
          "text": [
            "\n"
          ]
        }
      ],
      "source": [
        "import kagglehub\n",
        "\n",
        "# Download latest version\n",
        "path = kagglehub.dataset_download(\"hosammhmdali/supermarket-sales\")\n",
        "\n",
        "print(\"Path to dataset files:\", path)"
      ]
    },
    {
      "cell_type": "code",
      "source": [
        "import pandas as pd\n",
        "from math import factorial\n",
        "\n",
        "# Load the dataset\n",
        "file_path = \"/content/supermarket_sales -.csv\"\n",
        "df = pd.read_csv(file_path)"
      ],
      "metadata": {
        "id": "cUBT-d9U5xP2"
      },
      "execution_count": 1,
      "outputs": []
    },
    {
      "cell_type": "markdown",
      "source": [
        "**Task 1: Probability Calculations Using the Supermarket Sales Dataset**"
      ],
      "metadata": {
        "id": "X3M5ubnF5_BF"
      }
    },
    {
      "cell_type": "code",
      "source": [
        "import pandas as pd\n",
        "from math import factorial\n",
        "\n",
        "# Load the dataset\n",
        "file_path = \"/content/supermarket_sales -.csv\"\n",
        "df = pd.read_csv(file_path)\n",
        "\n",
        "# Print the column names to check for typos or extra spaces\n",
        "print(df.columns)\n",
        "\n",
        "# Task 1: Probability Calculations\n",
        "\n",
        "def probability(event_count, total_count):\n",
        "    return event_count / total_count\n",
        "\n",
        "# Define Events\n",
        "# Adjust column name if needed based on the printed columns\n",
        "A = df[df['Customer type'] == 'Member']\n",
        "B = df[df['Payment'] == 'Credit Card']\n",
        "A_and_B = df[(df['Customer type'] == 'Member') & (df['Payment'] == 'Credit Card')]\n",
        "\n",
        "# Compute probabilities\n",
        "total_transactions = len(df)\n",
        "P_A = probability(len(A), total_transactions)\n",
        "P_B = probability(len(B), total_transactions)\n",
        "P_A_and_B = probability(len(A_and_B), total_transactions)\n",
        "P_A_union_B = P_A + P_B - P_A_and_B\n",
        "\n",
        "# Handling the ZeroDivisionError for P_A_given_B\n",
        "if P_B == 0:\n",
        "    P_A_given_B = 0  # or another appropriate value, like float('inf') or None\n",
        "    print(\"Warning: P(B) is 0, P(A|B) is undefined. Setting it to 0.\")\n",
        "else:\n",
        "    P_A_given_B = P_A_and_B / P_B\n",
        "\n",
        "print(f\"P(A): {P_A:.4f}\")\n",
        "print(f\"P(B): {P_B:.4f}\")\n",
        "print(f\"P(A ∪ B): {P_A_union_B:.4f}\")\n",
        "print(f\"P(A ∩ B): {P_A_and_B:.4f}\")\n",
        "print(f\"P(A | B): {P_A_given_B:.4f}\")"
      ],
      "metadata": {
        "colab": {
          "base_uri": "https://localhost:8080/"
        },
        "id": "K5trHXUz5-nz",
        "outputId": "18fdc9b2-473d-4e7a-e986-29a1ae633a80"
      },
      "execution_count": 2,
      "outputs": [
        {
          "output_type": "stream",
          "name": "stdout",
          "text": [
            "Index(['Invoice ID', 'Branch', 'City', 'Customer type', 'Gender',\n",
            "       'Product line', 'Unit price', 'Quantity', 'Tax 5%', 'Total', 'Date',\n",
            "       'Time', 'Payment', 'cogs', 'gross margin percentage', 'gross income',\n",
            "       'Rating'],\n",
            "      dtype='object')\n",
            "Warning: P(B) is 0, P(A|B) is undefined. Setting it to 0.\n",
            "P(A): 0.5010\n",
            "P(B): 0.0000\n",
            "P(A ∪ B): 0.5010\n",
            "P(A ∩ B): 0.0000\n",
            "P(A | B): 0.0000\n"
          ]
        }
      ]
    },
    {
      "cell_type": "code",
      "source": [
        "# Probability of Health & Beauty product line\n",
        "P_health_beauty = probability(len(df[df['Product line'] == 'Health & Beauty']), total_transactions)\n",
        "print(f\"P(Health & Beauty): {P_health_beauty:.4f}\")\n",
        "\n",
        "# P(More than 5 items | Ewallet)\n",
        "Ewallet = df[df['Payment'] == 'Ewallet']\n",
        "Ewallet_more_than_5 = Ewallet[Ewallet['Quantity'] > 5]\n",
        "P_more_than_5_given_Ewallet = probability(len(Ewallet_more_than_5), len(Ewallet))\n",
        "print(f\"P(More than 5 items | Ewallet): {P_more_than_5_given_Ewallet:.4f}\")\n",
        "\n",
        "# P(Cash | Yangon)\n",
        "Yangon = df[df['City'] == 'Yangon']\n",
        "Yangon_cash = Yangon[Yangon['Payment'] == 'Cash']\n",
        "P_cash_given_Yangon = probability(len(Yangon_cash), len(Yangon))\n",
        "print(f\"P(Cash | Yangon): {P_cash_given_Yangon:.4f}\")\n",
        "\n",
        "# P(Member and Rating > 8)\n",
        "# Changed 'Customer Type' to 'Customer type'\n",
        "Member_high_rating = df[(df['Customer type'] == 'Member') & (df['Rating'] > 8)]\n",
        "P_member_high_rating = probability(len(Member_high_rating), total_transactions)\n",
        "print(f\"P(Member and Rating > 8): {P_member_high_rating:.4f}\")"
      ],
      "metadata": {
        "colab": {
          "base_uri": "https://localhost:8080/"
        },
        "id": "DNP_eMK26Pnb",
        "outputId": "ef2c5158-8d8c-4264-c4b0-6a7b6377dcf5"
      },
      "execution_count": 3,
      "outputs": [
        {
          "output_type": "stream",
          "name": "stdout",
          "text": [
            "P(Health & Beauty): 0.0000\n",
            "P(More than 5 items | Ewallet): 0.4870\n",
            "P(Cash | Yangon): 0.3235\n",
            "P(Member and Rating > 8): 0.1570\n"
          ]
        }
      ]
    },
    {
      "cell_type": "markdown",
      "source": [
        "**Task 2: Factorials, Permutations, and Combinations Using Dataset Features**"
      ],
      "metadata": {
        "id": "HKqnzJbe6TKC"
      }
    },
    {
      "cell_type": "code",
      "source": [
        "# Task 2: Factorials, Permutations, and Combinations\n",
        "\n",
        "def permutations(n, r):\n",
        "    return factorial(n) // factorial(n - r)\n",
        "\n",
        "def combinations(n, r):\n",
        "    return factorial(n) // (factorial(r) * factorial(n - r))\n",
        "\n",
        "# Permutation: Arranging 5 transactions from 20\n",
        "perm_5_from_20 = permutations(20, 5)\n",
        "print(f\"Ways to arrange 5 transactions from 20: {perm_5_from_20}\")\n",
        "\n",
        "# Combination: Selecting 3 product lines from 6\n",
        "comb_3_from_6 = combinations(6, 3)\n",
        "print(f\"Ways to select 3 product lines from 6: {comb_3_from_6}\")\n",
        "\n",
        "# Factorial: Number of branches in dataset\n",
        "num_branches = df['Branch'].nunique()\n",
        "fact_branches = factorial(num_branches)\n",
        "print(f\"Factorial of number of branches ({num_branches}): {fact_branches}\")\n",
        "\n",
        "# Selecting 4 payment methods from 3 (invalid scenario, correcting to choose 3 from 3)\n",
        "comb_3_from_3 = combinations(3, 3)\n",
        "print(f\"Ways to choose 3 payment methods from 3: {comb_3_from_3}\")\n",
        "\n",
        "# Selecting 5 employees from 15\n",
        "comb_5_from_15 = combinations(15, 5)\n",
        "print(f\"Ways to select 5 employees from 15: {comb_5_from_15}\")\n",
        "\n",
        "# Creating unique invoice codes with 6 letters\n",
        "perm_6_from_26 = permutations(26, 6)\n",
        "print(f\"Ways to create invoice codes using 6 letters: {perm_6_from_26}\")"
      ],
      "metadata": {
        "colab": {
          "base_uri": "https://localhost:8080/"
        },
        "id": "TZXYH55D6U_P",
        "outputId": "60528f79-990b-4ec9-cb66-afece34577ae"
      },
      "execution_count": 4,
      "outputs": [
        {
          "output_type": "stream",
          "name": "stdout",
          "text": [
            "Ways to arrange 5 transactions from 20: 1860480\n",
            "Ways to select 3 product lines from 6: 20\n",
            "Factorial of number of branches (3): 6\n",
            "Ways to choose 3 payment methods from 3: 1\n",
            "Ways to select 5 employees from 15: 3003\n",
            "Ways to create invoice codes using 6 letters: 165765600\n"
          ]
        }
      ]
    }
  ]
}